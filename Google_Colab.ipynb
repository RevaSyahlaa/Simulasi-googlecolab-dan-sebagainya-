{
  "nbformat": 4,
  "nbformat_minor": 0,
  "metadata": {
    "colab": {
      "provenance": []
    },
    "kernelspec": {
      "name": "python3",
      "display_name": "Python 3"
    },
    "language_info": {
      "name": "python"
    }
  },
  "cells": [
    {
      "cell_type": "code",
      "source": [
        "#cara menampilkan hasil\n",
        "\n",
        "m = 15\n",
        "print(m)\n",
        "print(\"hasil m+m =\", m+m)\n",
        "print(\"hasil m x m =\", m*m)\n",
        "print(\"hasil m-m =\", m-m)\n"
      ],
      "metadata": {
        "id": "3tsmKQvBopij"
      },
      "execution_count": null,
      "outputs": []
    },
    {
      "cell_type": "code",
      "source": [
        "#menampilkan karakter\n",
        "kar_1 = 'Saya Bisa fisika'\n",
        "kar_2 = 'kenapa harus aku kalau pada bisa '\n",
        "print(kar_1+' '+kar_2)\n",
        "print(kar_1[0:10])\n",
        "\n",
        "karakter = 'Saya bisa fisika kamu lebih bisa'\n",
        "print(karakter.split())"
      ],
      "metadata": {
        "id": "m3WardU-tnYV"
      },
      "execution_count": null,
      "outputs": []
    },
    {
      "cell_type": "code",
      "source": [
        "from math import *\n",
        "#operasi perhitungan sederhana\n",
        "a = 20\n",
        "b = -4.5\n",
        "c = 7.0\n",
        "d = 5/2\n",
        "\n",
        "print(a+b)\n",
        "print(\"bentuk bilangan integer = \", int(b))\n",
        "print(\"bentuk bilangan float =\", float(d))\n",
        "print(\"perkalian c x d =\", c*d)"
      ],
      "metadata": {
        "id": "MJeaXeS-toL1"
      },
      "execution_count": null,
      "outputs": []
    },
    {
      "cell_type": "code",
      "source": [
        "print(\"contoh soal = tentukan kecepatan v (W (usaha) = 20; s (jarak) = 10; t (waktu) = 5)\")\n",
        "W = 20\n",
        "s = 10\n",
        "t = 5\n",
        "kecepatan = s/t\n",
        "print(kecepatan,\"m/s\")"
      ],
      "metadata": {
        "colab": {
          "base_uri": "https://localhost:8080/"
        },
        "id": "bdeXZbtjtzyc",
        "outputId": "2e67598d-d24b-40c2-9e76-84be01eae307"
      },
      "execution_count": 11,
      "outputs": [
        {
          "output_type": "stream",
          "name": "stdout",
          "text": [
            "contoh soal = tentukan kecepatan v (W (usaha) = 20; s (jarak) = 10; t (waktu) = 5)\n",
            "2.0 m/s\n"
          ]
        }
      ]
    },
    {
      "cell_type": "code",
      "source": [
        "print(\"-------------------------\")\n",
        "print(\"soal 1 = tentukan energi dalam J dari m = 9,31x10^-31; c = 3x10^8\")\n",
        "m = 9.31*10**-31\n",
        "c = 3*10**8\n",
        "#energi : E = m x c^2\n",
        "E = m* c**2\n",
        "print(E)"
      ],
      "metadata": {
        "id": "cM41g_c1t479"
      },
      "execution_count": null,
      "outputs": []
    },
    {
      "cell_type": "code",
      "source": [
        "print(\"--------------------------\")\n",
        "print(\"soal 2 = tentukan periode dalam s (l - 0.5 m ; g = 9.8 m/s^2\")\n",
        "l = 0.5\n",
        "g = 9.8\n",
        "periode = 2*pi*sqrt (l/g)\n",
        "print(periode)"
      ],
      "metadata": {
        "colab": {
          "base_uri": "https://localhost:8080/"
        },
        "id": "MKUn-7i6t8qW",
        "outputId": "4f25f046-d428-4711-a9fa-e789a38ba922"
      },
      "execution_count": 13,
      "outputs": [
        {
          "output_type": "stream",
          "name": "stdout",
          "text": [
            "--------------------------\n",
            "soal 2 = tentukan periode dalam s (l - 0.5 m ; g = 9.8 m/s^2\n",
            "1.4192268951137286\n"
          ]
        }
      ]
    },
    {
      "cell_type": "code",
      "source": [
        "from numpy import *\n",
        "#menampilkan matrik\n",
        "M = [[0, 1, 1, 0], [2,3,2,1]]\n",
        "print(M)\n",
        "\n",
        "a = zeros ((3,3), int)\n",
        "print(a)\n",
        "print(\" \")\n",
        "\n",
        "a[0] = [1,4,3]\n",
        "a[1,1] = 9\n",
        "a[2,0:2] = [9,4]\n",
        "print(a)\n",
        "\n",
        "from numpy import array\n",
        "print(' ')\n",
        "A = array([[2,3,6],[1,2,3]])\n",
        "print(A)\n"
      ],
      "metadata": {
        "id": "MFemh5PIt_ym"
      },
      "execution_count": null,
      "outputs": []
    },
    {
      "cell_type": "code",
      "source": [
        "import matplotlib.pyplot as plt\n",
        "from numpy import arange,sin,cos\n",
        "\n",
        "x = arange(0.0,6.0,0.1)\n",
        "plt.plot(x,sin(x),'o-',x,cos(x),'s-')\n",
        "plt.title('Grafik Sinusoidal')\n",
        "plt.xlabel('x')\n",
        "plt.ylabel('y')\n",
        "plt.legend(('sinus','cosinus'),loc = 0)\n",
        "plt.grid(True)\n",
        "plt.show()\n"
      ],
      "metadata": {
        "id": "omBnRydGuEE8"
      },
      "execution_count": null,
      "outputs": []
    }
  ]
}