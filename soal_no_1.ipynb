{
  "nbformat": 4,
  "nbformat_minor": 0,
  "metadata": {
    "colab": {
      "provenance": []
    },
    "kernelspec": {
      "name": "python3",
      "display_name": "Python 3"
    },
    "language_info": {
      "name": "python"
    }
  },
  "cells": [
    {
      "cell_type": "code",
      "execution_count": 6,
      "metadata": {
        "colab": {
          "base_uri": "https://localhost:8080/"
        },
        "id": "IjxMvTJ_naPF",
        "outputId": "9f28d747-b1ea-47a4-8fff-3c24fe124e65"
      },
      "outputs": [
        {
          "output_type": "stream",
          "name": "stdout",
          "text": [
            "----------------------------------------\n",
            "Jarak Fokus Lensa = 9.473684210526315\n"
          ]
        }
      ],
      "source": [
        "#Rumus Fokus Lensa\n",
        "#1/f = (n-1)[1/R1 + 1/R2]\n",
        "n  = 2.0   \n",
        "R1 = 20     \n",
        "R2 = 18\n",
        "\n",
        "F = (n-1)*((1/R1)+(1/R2))\n",
        "F = 1/F\n",
        "\n",
        "print(\"-\"*40)\n",
        "print(\"Jarak Fokus Lensa =\", F)"
      ]
    }
  ]
}